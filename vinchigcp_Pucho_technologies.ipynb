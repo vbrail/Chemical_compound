{
  "nbformat": 4,
  "nbformat_minor": 0,
  "metadata": {
    "colab": {
      "name": "vinchigcp_Pucho_technologies.ipynb",
      "provenance": [],
      "collapsed_sections": [],
      "authorship_tag": "ABX9TyNtzT6cyW6GfjBUKxde4EXP",
      "include_colab_link": true
    },
    "kernelspec": {
      "name": "python3",
      "display_name": "Python 3"
    },
    "accelerator": "GPU"
  },
  "cells": [
    {
      "cell_type": "markdown",
      "metadata": {
        "id": "view-in-github",
        "colab_type": "text"
      },
      "source": [
        "<a href=\"https://colab.research.google.com/github/vbrail/Chemical_compound/blob/master/vinchigcp_Pucho_technologies.ipynb\" target=\"_parent\"><img src=\"https://colab.research.google.com/assets/colab-badge.svg\" alt=\"Open In Colab\"/></a>"
      ]
    },
    {
      "cell_type": "code",
      "metadata": {
        "id": "XhLl4l1bMiG1",
        "colab_type": "code",
        "outputId": "7cfb2095-2d46-4c7a-c8ac-c53d1578399c",
        "colab": {
          "base_uri": "https://localhost:8080/",
          "height": 122
        }
      },
      "source": [
        "from google.colab import drive\n",
        "drive.mount('/content/drive')"
      ],
      "execution_count": 5,
      "outputs": [
        {
          "output_type": "stream",
          "text": [
            "Go to this URL in a browser: https://accounts.google.com/o/oauth2/auth?client_id=947318989803-6bn6qk8qdgf4n4g3pfee6491hc0brc4i.apps.googleusercontent.com&redirect_uri=urn%3aietf%3awg%3aoauth%3a2.0%3aoob&response_type=code&scope=email%20https%3a%2f%2fwww.googleapis.com%2fauth%2fdocs.test%20https%3a%2f%2fwww.googleapis.com%2fauth%2fdrive%20https%3a%2f%2fwww.googleapis.com%2fauth%2fdrive.photos.readonly%20https%3a%2f%2fwww.googleapis.com%2fauth%2fpeopleapi.readonly\n",
            "\n",
            "Enter your authorization code:\n",
            "··········\n",
            "Mounted at /content/drive\n"
          ],
          "name": "stdout"
        }
      ]
    },
    {
      "cell_type": "code",
      "metadata": {
        "id": "ZkovtD9LO8Qh",
        "colab_type": "code",
        "colab": {}
      },
      "source": [
        "import numpy as np\n",
        "import pandas as pd\n",
        "import tensorflow as tf\n",
        "from tqdm import tqdm\n",
        "import matplotlib.pyplot as plt\n",
        "from datetime import datetime\n",
        "import cv2\n",
        "import math\n",
        "import os\n",
        "from PIL import Image\n",
        "import split_folders\n",
        "from sklearn.metrics import confusion_matrix\n",
        "import seaborn as sns\n"
      ],
      "execution_count": 0,
      "outputs": []
    },
    {
      "cell_type": "code",
      "metadata": {
        "id": "TI4g6RadO8NW",
        "colab_type": "code",
        "outputId": "2f3cd12a-df07-4da6-90b8-de368c9baa19",
        "colab": {
          "base_uri": "https://localhost:8080/",
          "height": 34
        }
      },
      "source": [
        "tf.__version__"
      ],
      "execution_count": 2,
      "outputs": [
        {
          "output_type": "execute_result",
          "data": {
            "text/plain": [
              "'2.2.0-rc0'"
            ]
          },
          "metadata": {
            "tags": []
          },
          "execution_count": 2
        }
      ]
    },
    {
      "cell_type": "code",
      "metadata": {
        "id": "weEM5YcaO8Af",
        "colab_type": "code",
        "colab": {}
      },
      "source": [
        "from tensorflow.keras import datasets,layers,Model,optimizers,metrics\n",
        "from tensorflow.keras.layers import Dense,Input,Conv2D,MaxPool2D,Activation,Dropout,Flatten\n",
        "from tensorflow.keras.callbacks import ModelCheckpoint\n",
        "from tensorflow.keras.preprocessing.image import ImageDataGenerator"
      ],
      "execution_count": 0,
      "outputs": []
    },
    {
      "cell_type": "code",
      "metadata": {
        "id": "g-s-ImHzQ5vK",
        "colab_type": "code",
        "colab": {}
      },
      "source": [
        "proj_path='/content/drive/My Drive/Colab Notebooks/pucho_technologies'\n",
        "data_path='/content/drive/My Drive/Colab Notebooks/pucho_technologies/data/natural_images'"
      ],
      "execution_count": 0,
      "outputs": []
    },
    {
      "cell_type": "code",
      "metadata": {
        "id": "tfJCP8UyWkQQ",
        "colab_type": "code",
        "outputId": "207a7a88-2d11-4248-aa18-ab21a492ecfc",
        "colab": {
          "base_uri": "https://localhost:8080/",
          "height": 34
        }
      },
      "source": [
        "split_folders.ratio(data_path, output=os.path.join(proj_path,'DATA'), seed=1337, ratio=(.7, .2, .1)) "
      ],
      "execution_count": 0,
      "outputs": [
        {
          "output_type": "stream",
          "text": [
            "Copying files: 6986 files [58:28,  1.99 files/s]\n"
          ],
          "name": "stderr"
        }
      ]
    },
    {
      "cell_type": "code",
      "metadata": {
        "id": "jsOYdX34mKC2",
        "colab_type": "code",
        "colab": {}
      },
      "source": [
        "DATA_path='/content/drive/My Drive/Colab Notebooks/pucho_technologies/DATA'"
      ],
      "execution_count": 0,
      "outputs": []
    },
    {
      "cell_type": "code",
      "metadata": {
        "id": "2NE3J8Y4Q6TX",
        "colab_type": "code",
        "colab": {}
      },
      "source": [
        "def display(imglist):\n",
        "  plt.figure(figsize=(20,25))\n",
        "  no_of_img = len(imglist)\n",
        "  col = 4\n",
        "  row = math.ceil(no_of_img/4)\n",
        "  for i in range(no_of_img):\n",
        "      plt.subplot(row,col,i+1)\n",
        "      plt.xticks([])\n",
        "      plt.yticks([])\n",
        "      plt.imshow(plt.imread(os.path.join(data_path,imglist[i].split('_')[0]+'/'+imglist[i])))"
      ],
      "execution_count": 0,
      "outputs": []
    },
    {
      "cell_type": "code",
      "metadata": {
        "id": "rhQHyVA9qjea",
        "colab_type": "code",
        "outputId": "a1f2898e-51b9-49aa-ea4b-3be77f017265",
        "colab": {
          "base_uri": "https://localhost:8080/",
          "height": 337
        }
      },
      "source": [
        "no_of_img_per_class=[]\n",
        "for i in os.listdir(data_path):\n",
        "  no_of_img_per_class.append(len(os.listdir(os.path.join(data_path,i))))\n",
        "class_label=os.listdir(data_path)\n",
        "\n",
        "plt.bar(x=class_label,height=no_of_img_per_class,width=0.7,color=['brown','pink', 'red', 'green', 'blue', 'cyan','orange','purple'])\n",
        "plt.xticks(rotation=60)\n",
        "plt.title(\"class distribution\")\n"
      ],
      "execution_count": 0,
      "outputs": [
        {
          "output_type": "execute_result",
          "data": {
            "text/plain": [
              "Text(0.5, 1.0, 'class distribution')"
            ]
          },
          "metadata": {
            "tags": []
          },
          "execution_count": 69
        },
        {
          "output_type": "display_data",
          "data": {
            "image/png": "[encoded data removed]",
            "text/plain": [
              "<Figure size 432x288 with 1 Axes>"
            ]
          },
          "metadata": {
            "tags": []
          }
        }
      ]
    },
    {
      "cell_type": "code",
      "metadata": {
        "id": "y8j7jnPkQ6Jv",
        "colab_type": "code",
        "outputId": "d421f940-1d30-44a6-8824-83bd292ee951",
        "colab": {
          "base_uri": "https://localhost:8080/",
          "height": 34
        }
      },
      "source": [
        "list_of_heights = []\n",
        "list_of_widths = []\n",
        "for i in tqdm(os.listdir(data_path)):\n",
        "    for image in os.listdir(os.path.join(data_path,i)):\n",
        "        img = cv2.imread(os.path.join(os.path.join(data_path,i),image), cv2.IMREAD_UNCHANGED)\n",
        "        # get dimensions of image\n",
        "        shape = img.shape\n",
        "        list_of_heights.append(shape[0])\n",
        "        list_of_widths.append(shape[1]) "
      ],
      "execution_count": 0,
      "outputs": [
        {
          "output_type": "stream",
          "text": [
            "100%|██████████| 8/8 [00:17<00:00,  2.21s/it]\n"
          ],
          "name": "stderr"
        }
      ]
    },
    {
      "cell_type": "code",
      "metadata": {
        "id": "l-vmx392Q5sP",
        "colab_type": "code",
        "outputId": "4f6b9d6c-4eb5-4dbf-9771-0fedb173946f",
        "colab": {
          "base_uri": "https://localhost:8080/",
          "height": 353
        }
      },
      "source": [
        "plt.figure(figsize=(15,5))\n",
        "plt.subplot(1,2,1)\n",
        "plt.hist(list_of_heights,bins=20,color='red')\n",
        "plt.xlim(0,900)\n",
        "plt.title('heights')\n",
        "plt.subplot(1,2,2)\n",
        "plt.hist(list_of_widths,bins=20,color='green')\n",
        "plt.xlim(0,900)\n",
        "plt.title('Widths')"
      ],
      "execution_count": 0,
      "outputs": [
        {
          "output_type": "execute_result",
          "data": {
            "text/plain": [
              "Text(0.5, 1.0, 'Widths')"
            ]
          },
          "metadata": {
            "tags": []
          },
          "execution_count": 54
        },
        {
          "output_type": "display_data",
          "data": {
            "image/png": "[encoded data removed]",
            "text/plain": [
              "<Figure size 1080x360 with 2 Axes>"
            ]
          },
          "metadata": {
            "tags": []
          }
        }
      ]
    },
    {
      "cell_type": "code",
      "metadata": {
        "id": "ElR_gF4HCkRE",
        "colab_type": "code",
        "colab": {
          "base_uri": "https://localhost:8080/",
          "height": 34
        },
        "outputId": "1679b592-ed7c-4aef-9421-46edeaeffb2a"
      },
      "source": [
        "np.mean(list_of_heights),np.mean(list_of_widths)"
      ],
      "execution_count": 92,
      "outputs": [
        {
          "output_type": "execute_result",
          "data": {
            "text/plain": [
              "(197.3411107930146, 235.4931291153736)"
            ]
          },
          "metadata": {
            "tags": []
          },
          "execution_count": 92
        }
      ]
    },
    {
      "cell_type": "code",
      "metadata": {
        "id": "X0ksoSJJQ5mi",
        "colab_type": "code",
        "colab": {
          "base_uri": "https://localhost:8080/",
          "height": 51
        },
        "outputId": "b5549f45-e060-4834-ae97-72a7ca7f0e9b"
      },
      "source": [
        "datagen=ImageDataGenerator(rescale=1./255.)\n",
        "INPUT_SHAPE = (224,224)\n",
        "train_generator      = datagen.flow_from_directory(os.path.join(DATA_path,'train'),\n",
        "                                                   shuffle=True,\n",
        "                                                   batch_size=32,\n",
        "                                                   target_size=INPUT_SHAPE)\n",
        "validation_generator = datagen.flow_from_directory(os.path.join(DATA_path,'val'),\n",
        "                                                   shuffle=True,\n",
        "                                                   batch_size=32,\n",
        "                                                   target_size=INPUT_SHAPE)"
      ],
      "execution_count": 10,
      "outputs": [
        {
          "output_type": "stream",
          "text": [
            "Found 4887 images belonging to 8 classes.\n",
            "Found 1395 images belonging to 8 classes.\n"
          ],
          "name": "stdout"
        }
      ]
    },
    {
      "cell_type": "code",
      "metadata": {
        "id": "doHB0jUWMOsP",
        "colab_type": "code",
        "colab": {}
      },
      "source": [
        "steps_per_epoch = np.ceil(train_generator.samples/train_generator.batch_size)\n",
        "val_steps_per_epoch = np.ceil(validation_generator.samples/validation_generator.batch_size)"
      ],
      "execution_count": 0,
      "outputs": []
    },
    {
      "cell_type": "code",
      "metadata": {
        "id": "WZOgiqz2JR39",
        "colab_type": "code",
        "colab": {}
      },
      "source": [
        "class customm_callback(tf.keras.callbacks.Callback):\n",
        "    def on_train_begin(self,logs={}):\n",
        "        self.val_accuracy=[0,0]\n",
        "        self.count =0\n",
        "    def on_epoch_end(self,epoch,logs={}):\n",
        "        self.val_accuracy.append(logs['accuracy'])\n",
        "\n",
        "        if str(self.val_accuracy[-2])[:6] == str(self.val_accuracy[-1])[:6]:\n",
        "            self.count += 1\n",
        "        else :\n",
        "            self.count=0\n",
        "\n",
        "        for i  in range(len(self.model.weights)):\n",
        "            try:\n",
        "                a = tf.debugging.check_numerics(self.model.weights[i],'non finite weight')\n",
        "            except InvalidArgument as err :\n",
        "                print('\\n\\n\\n'+' '*24,err )\n",
        "                print('\\n'+' '*24,\"STOPPING TRAINING \\n\\n\\n\" )\n",
        "                self.model.stop_training=True\n",
        "                break        \n",
        "            \n",
        "        if  not np.isfinite(logs['loss']):\n",
        "            print('\\n\\n\\n'+' '*24,'not finite loss')\n",
        "            print('\\n'+' '*24,\"STOPPING TRAINING \\n\\n\\n\" )\n",
        "            self.model.stop_training=True\n",
        "            \n",
        "        if  self.count == 3:\n",
        "            print('\\n\\n\\n'+' '*24,'No improvement from last 3 epoch ')\n",
        "            print('\\n'+' '*24,\"STOPPING TRAINING \\n\\n\\n\" )\n",
        "            self.model.stop_training=True"
      ],
      "execution_count": 0,
      "outputs": []
    },
    {
      "cell_type": "code",
      "metadata": {
        "id": "OwRmGUVBlf85",
        "colab_type": "code",
        "colab": {}
      },
      "source": [
        ""
      ],
      "execution_count": 0,
      "outputs": []
    },
    {
      "cell_type": "code",
      "metadata": {
        "id": "SA-bGhNR80wP",
        "colab_type": "code",
        "colab": {
          "base_uri": "https://localhost:8080/",
          "height": 935
        },
        "outputId": "a7514d5a-3bad-4652-fd78-29c6c901b1b4"
      },
      "source": [
        "os.environ['PYTHONHASHSEED'] = '0'\n",
        "tf.keras.backend.clear_session()\n",
        "\n",
        "conv_base_model           = tf.keras.applications.vgg16.VGG16(weights='imagenet', input_shape=(224,224,3), include_top=False)\n",
        "conv_base_model.trainable = False\n",
        "for i in conv_base_model.layers[17:]:\n",
        "  i.trainable = True\n",
        "\n",
        "Conv1                     = Conv2D(filters=256,kernel_size=(7,7),strides=(1,1),padding='valid',data_format='channels_last',\n",
        "                                   activation='relu',kernel_initializer=tf.keras.initializers.he_normal(seed=0),\n",
        "                                   name='block6_conv1')(conv_base_model.output)\n",
        "\n",
        "Conv2                     = Conv2D(filters=128,kernel_size=(1,1),strides=(1,1),padding='same',data_format='channels_last',\n",
        "                                    activation='relu',kernel_initializer=tf.keras.initializers.he_normal(seed=0),\n",
        "                                    name='block6_conv2')(Conv1)\n",
        "flat                      = Flatten()(Conv2)\n",
        "Out                       = Dense(units=8,activation='softmax',kernel_initializer=tf.keras.initializers.glorot_normal(seed=34),name='Output')(flat)\n",
        "\n",
        "model = Model(inputs=conv_base_model.input, outputs=Out, name='Architecture_1')\n",
        "model.summary()"
      ],
      "execution_count": 73,
      "outputs": [
        {
          "output_type": "stream",
          "text": [
            "Model: \"Architecture_1\"\n",
            "_________________________________________________________________\n",
            "Layer (type)                 Output Shape              Param #   \n",
            "=================================================================\n",
            "input_1 (InputLayer)         [(None, 224, 224, 3)]     0         \n",
            "_________________________________________________________________\n",
            "block1_conv1 (Conv2D)        (None, 224, 224, 64)      1792      \n",
            "_________________________________________________________________\n",
            "block1_conv2 (Conv2D)        (None, 224, 224, 64)      36928     \n",
            "_________________________________________________________________\n",
            "block1_pool (MaxPooling2D)   (None, 112, 112, 64)      0         \n",
            "_________________________________________________________________\n",
            "block2_conv1 (Conv2D)        (None, 112, 112, 128)     73856     \n",
            "_________________________________________________________________\n",
            "block2_conv2 (Conv2D)        (None, 112, 112, 128)     147584    \n",
            "_________________________________________________________________\n",
            "block2_pool (MaxPooling2D)   (None, 56, 56, 128)       0         \n",
            "_________________________________________________________________\n",
            "block3_conv1 (Conv2D)        (None, 56, 56, 256)       295168    \n",
            "_________________________________________________________________\n",
            "block3_conv2 (Conv2D)        (None, 56, 56, 256)       590080    \n",
            "_________________________________________________________________\n",
            "block3_conv3 (Conv2D)        (None, 56, 56, 256)       590080    \n",
            "_________________________________________________________________\n",
            "block3_pool (MaxPooling2D)   (None, 28, 28, 256)       0         \n",
            "_________________________________________________________________\n",
            "block4_conv1 (Conv2D)        (None, 28, 28, 512)       1180160   \n",
            "_________________________________________________________________\n",
            "block4_conv2 (Conv2D)        (None, 28, 28, 512)       2359808   \n",
            "_________________________________________________________________\n",
            "block4_conv3 (Conv2D)        (None, 28, 28, 512)       2359808   \n",
            "_________________________________________________________________\n",
            "block4_pool (MaxPooling2D)   (None, 14, 14, 512)       0         \n",
            "_________________________________________________________________\n",
            "block5_conv1 (Conv2D)        (None, 14, 14, 512)       2359808   \n",
            "_________________________________________________________________\n",
            "block5_conv2 (Conv2D)        (None, 14, 14, 512)       2359808   \n",
            "_________________________________________________________________\n",
            "block5_conv3 (Conv2D)        (None, 14, 14, 512)       2359808   \n",
            "_________________________________________________________________\n",
            "block5_pool (MaxPooling2D)   (None, 7, 7, 512)         0         \n",
            "_________________________________________________________________\n",
            "block6_conv1 (Conv2D)        (None, 1, 1, 256)         6422784   \n",
            "_________________________________________________________________\n",
            "block6_conv2 (Conv2D)        (None, 1, 1, 128)         32896     \n",
            "_________________________________________________________________\n",
            "flatten (Flatten)            (None, 128)               0         \n",
            "_________________________________________________________________\n",
            "Output (Dense)               (None, 8)                 1032      \n",
            "=================================================================\n",
            "Total params: 21,171,400\n",
            "Trainable params: 8,816,520\n",
            "Non-trainable params: 12,354,880\n",
            "_________________________________________________________________\n"
          ],
          "name": "stdout"
        }
      ]
    },
    {
      "cell_type": "code",
      "metadata": {
        "id": "V3yk_hCf80ql",
        "colab_type": "code",
        "colab": {}
      },
      "source": [
        "checkpoint_path=proj_path+\"model_save\\model1\\_{epoch:02d}_{val_accuracy:.4f}.hdf5\"\n",
        "checkpoint = ModelCheckpoint(filepath=checkpoint_path, monitor='val_accuracy', save_best_only=True, mode='max')\n",
        "callback_obj = customm_callback()"
      ],
      "execution_count": 0,
      "outputs": []
    },
    {
      "cell_type": "code",
      "metadata": {
        "id": "cDGvQyPLLaU8",
        "colab_type": "code",
        "colab": {}
      },
      "source": [
        "model.compile(optimizer=tf.keras.optimizers.Adam(lr=0.01),loss='categorical_crossentropy',metrics=['accuracy'])"
      ],
      "execution_count": 0,
      "outputs": []
    },
    {
      "cell_type": "code",
      "metadata": {
        "id": "wsuG3fQVLpm_",
        "colab_type": "code",
        "colab": {
          "base_uri": "https://localhost:8080/",
          "height": 357
        },
        "outputId": "0d10fe64-9a53-4dc3-f03d-6ef1b12fe7bf"
      },
      "source": [
        "History = model.fit(train_generator,epochs=10,verbose=1,steps_per_epoch=steps_per_epoch,\n",
        "                    validation_data=validation_generator,validation_steps=val_steps_per_epoch,\n",
        "                    callbacks=[callback_obj,checkpoint]  ).history"
      ],
      "execution_count": 75,
      "outputs": [
        {
          "output_type": "stream",
          "text": [
            "Epoch 1/10\n",
            "153/153 [==============================] - 23s 147ms/step - loss: 4.5650 - accuracy: 0.8525 - val_loss: 0.4076 - val_accuracy: 0.9154\n",
            "Epoch 2/10\n",
            "153/153 [==============================] - 23s 151ms/step - loss: 0.4074 - accuracy: 0.9161 - val_loss: 0.3399 - val_accuracy: 0.9348\n",
            "Epoch 3/10\n",
            "153/153 [==============================] - 23s 150ms/step - loss: 0.2022 - accuracy: 0.9468 - val_loss: 0.2031 - val_accuracy: 0.9541\n",
            "Epoch 4/10\n",
            "153/153 [==============================] - 22s 147ms/step - loss: 0.1663 - accuracy: 0.9544 - val_loss: 0.3399 - val_accuracy: 0.9427\n",
            "Epoch 5/10\n",
            "153/153 [==============================] - 22s 147ms/step - loss: 0.1396 - accuracy: 0.9701 - val_loss: 0.3786 - val_accuracy: 0.9455\n",
            "Epoch 6/10\n",
            "153/153 [==============================] - 22s 145ms/step - loss: 0.3422 - accuracy: 0.9482 - val_loss: 0.2824 - val_accuracy: 0.9527\n",
            "Epoch 7/10\n",
            "153/153 [==============================] - 23s 149ms/step - loss: 0.2041 - accuracy: 0.9517 - val_loss: 0.2077 - val_accuracy: 0.9577\n",
            "Epoch 8/10\n",
            "153/153 [==============================] - 22s 146ms/step - loss: 0.2711 - accuracy: 0.9411 - val_loss: 0.2400 - val_accuracy: 0.9384\n",
            "Epoch 9/10\n",
            "153/153 [==============================] - 22s 142ms/step - loss: 0.1702 - accuracy: 0.9630 - val_loss: 0.3093 - val_accuracy: 0.9455\n",
            "Epoch 10/10\n",
            "153/153 [==============================] - 22s 147ms/step - loss: 0.1366 - accuracy: 0.9681 - val_loss: 0.4950 - val_accuracy: 0.8789\n"
          ],
          "name": "stdout"
        }
      ]
    },
    {
      "cell_type": "code",
      "metadata": {
        "id": "AaCohMiIgk_m",
        "colab_type": "code",
        "colab": {
          "base_uri": "https://localhost:8080/",
          "height": 935
        },
        "outputId": "5ecae96f-0dc2-4323-d7bd-277a9d8403fb"
      },
      "source": [
        "os.environ['PYTHONHASHSEED'] = '0'\n",
        "tf.keras.backend.clear_session()\n",
        "\n",
        "conv_base_model           = tf.keras.applications.vgg16.VGG16(weights='imagenet', input_shape=(224,224,3), include_top=False)\n",
        "conv_base_model.trainable = False\n",
        "# for i in conv_base_model.layers[17:]:\n",
        "#   i.trainable = True\n",
        "\n",
        "Conv1                     = Conv2D(filters=128,kernel_size=(7,7),strides=(1,1),padding='valid',data_format='channels_last',\n",
        "                                   activation='relu',kernel_initializer=tf.keras.initializers.he_normal(seed=0),\n",
        "                                   name='block6_conv1')(conv_base_model.output)\n",
        "\n",
        "Conv2                     = Conv2D(filters=128,kernel_size=(1,1),strides=(1,1),padding='same',data_format='channels_last',\n",
        "                                    activation='relu',kernel_initializer=tf.keras.initializers.he_normal(seed=0),\n",
        "                                    name='block6_conv2')(Conv1)\n",
        "flat                      = Flatten()(Conv2)\n",
        "Out                       = Dense(units=8,activation='softmax',kernel_initializer=tf.keras.initializers.glorot_normal(seed=34),name='Output')(flat)\n",
        "\n",
        "model = Model(inputs=conv_base_model.input, outputs=Out, name='Architecture_2')\n",
        "model.summary()"
      ],
      "execution_count": 77,
      "outputs": [
        {
          "output_type": "stream",
          "text": [
            "Model: \"Architecture_2\"\n",
            "_________________________________________________________________\n",
            "Layer (type)                 Output Shape              Param #   \n",
            "=================================================================\n",
            "input_1 (InputLayer)         [(None, 224, 224, 3)]     0         \n",
            "_________________________________________________________________\n",
            "block1_conv1 (Conv2D)        (None, 224, 224, 64)      1792      \n",
            "_________________________________________________________________\n",
            "block1_conv2 (Conv2D)        (None, 224, 224, 64)      36928     \n",
            "_________________________________________________________________\n",
            "block1_pool (MaxPooling2D)   (None, 112, 112, 64)      0         \n",
            "_________________________________________________________________\n",
            "block2_conv1 (Conv2D)        (None, 112, 112, 128)     73856     \n",
            "_________________________________________________________________\n",
            "block2_conv2 (Conv2D)        (None, 112, 112, 128)     147584    \n",
            "_________________________________________________________________\n",
            "block2_pool (MaxPooling2D)   (None, 56, 56, 128)       0         \n",
            "_________________________________________________________________\n",
            "block3_conv1 (Conv2D)        (None, 56, 56, 256)       295168    \n",
            "_________________________________________________________________\n",
            "block3_conv2 (Conv2D)        (None, 56, 56, 256)       590080    \n",
            "_________________________________________________________________\n",
            "block3_conv3 (Conv2D)        (None, 56, 56, 256)       590080    \n",
            "_________________________________________________________________\n",
            "block3_pool (MaxPooling2D)   (None, 28, 28, 256)       0         \n",
            "_________________________________________________________________\n",
            "block4_conv1 (Conv2D)        (None, 28, 28, 512)       1180160   \n",
            "_________________________________________________________________\n",
            "block4_conv2 (Conv2D)        (None, 28, 28, 512)       2359808   \n",
            "_________________________________________________________________\n",
            "block4_conv3 (Conv2D)        (None, 28, 28, 512)       2359808   \n",
            "_________________________________________________________________\n",
            "block4_pool (MaxPooling2D)   (None, 14, 14, 512)       0         \n",
            "_________________________________________________________________\n",
            "block5_conv1 (Conv2D)        (None, 14, 14, 512)       2359808   \n",
            "_________________________________________________________________\n",
            "block5_conv2 (Conv2D)        (None, 14, 14, 512)       2359808   \n",
            "_________________________________________________________________\n",
            "block5_conv3 (Conv2D)        (None, 14, 14, 512)       2359808   \n",
            "_________________________________________________________________\n",
            "block5_pool (MaxPooling2D)   (None, 7, 7, 512)         0         \n",
            "_________________________________________________________________\n",
            "block6_conv1 (Conv2D)        (None, 1, 1, 128)         3211392   \n",
            "_________________________________________________________________\n",
            "block6_conv2 (Conv2D)        (None, 1, 1, 128)         16512     \n",
            "_________________________________________________________________\n",
            "flatten (Flatten)            (None, 128)               0         \n",
            "_________________________________________________________________\n",
            "Output (Dense)               (None, 8)                 1032      \n",
            "=================================================================\n",
            "Total params: 17,943,624\n",
            "Trainable params: 3,228,936\n",
            "Non-trainable params: 14,714,688\n",
            "_________________________________________________________________\n"
          ],
          "name": "stdout"
        }
      ]
    },
    {
      "cell_type": "code",
      "metadata": {
        "id": "CMoAakn-LaLm",
        "colab_type": "code",
        "colab": {}
      },
      "source": [
        "checkpoint_path=proj_path+\"model_save\\model2\\_{epoch:02d}_{val_accuracy:.4f}.hdf5\"\n",
        "checkpoint = ModelCheckpoint(filepath=checkpoint_path, monitor='val_accuracy', save_best_only=True, mode='max')\n",
        "callback_obj = customm_callback()"
      ],
      "execution_count": 0,
      "outputs": []
    },
    {
      "cell_type": "code",
      "metadata": {
        "id": "V6U3bMsNLaFu",
        "colab_type": "code",
        "colab": {}
      },
      "source": [
        "model.compile(optimizer=tf.keras.optimizers.Adam(lr=0.01),loss='categorical_crossentropy',metrics=['accuracy'])"
      ],
      "execution_count": 0,
      "outputs": []
    },
    {
      "cell_type": "code",
      "metadata": {
        "id": "Cix4lHmqnrG5",
        "colab_type": "code",
        "colab": {
          "base_uri": "https://localhost:8080/",
          "height": 357
        },
        "outputId": "470dbba9-037e-4b70-ef76-29f483f47672"
      },
      "source": [
        "History = model.fit(train_generator,epochs=10,verbose=1,steps_per_epoch=steps_per_epoch,\n",
        "                    validation_data=validation_generator,validation_steps=val_steps_per_epoch,\n",
        "                    callbacks=[callback_obj,checkpoint]  ).history"
      ],
      "execution_count": 81,
      "outputs": [
        {
          "output_type": "stream",
          "text": [
            "Epoch 1/10\n",
            "153/153 [==============================] - 22s 145ms/step - loss: 3.1081 - accuracy: 0.8592 - val_loss: 0.1308 - val_accuracy: 0.9577\n",
            "Epoch 2/10\n",
            "153/153 [==============================] - 23s 147ms/step - loss: 0.0547 - accuracy: 0.9806 - val_loss: 0.0690 - val_accuracy: 0.9828\n",
            "Epoch 3/10\n",
            "153/153 [==============================] - 22s 144ms/step - loss: 0.0443 - accuracy: 0.9853 - val_loss: 0.1568 - val_accuracy: 0.9663\n",
            "Epoch 4/10\n",
            "153/153 [==============================] - 22s 142ms/step - loss: 0.0199 - accuracy: 0.9935 - val_loss: 0.1464 - val_accuracy: 0.9577\n",
            "Epoch 5/10\n",
            "153/153 [==============================] - 22s 143ms/step - loss: 0.0258 - accuracy: 0.9914 - val_loss: 0.1580 - val_accuracy: 0.9706\n",
            "Epoch 6/10\n",
            "153/153 [==============================] - 23s 147ms/step - loss: 0.1188 - accuracy: 0.9738 - val_loss: 0.3257 - val_accuracy: 0.9505\n",
            "Epoch 7/10\n",
            "153/153 [==============================] - 22s 145ms/step - loss: 0.1774 - accuracy: 0.9673 - val_loss: 0.6584 - val_accuracy: 0.9240\n",
            "Epoch 8/10\n",
            "153/153 [==============================] - 22s 141ms/step - loss: 0.0610 - accuracy: 0.9857 - val_loss: 0.1883 - val_accuracy: 0.9649\n",
            "Epoch 9/10\n",
            "153/153 [==============================] - 22s 142ms/step - loss: 0.0558 - accuracy: 0.9873 - val_loss: 0.1256 - val_accuracy: 0.9763\n",
            "Epoch 10/10\n",
            "153/153 [==============================] - 21s 140ms/step - loss: 0.0298 - accuracy: 0.9914 - val_loss: 0.1004 - val_accuracy: 0.9728\n"
          ],
          "name": "stdout"
        }
      ]
    },
    {
      "cell_type": "code",
      "metadata": {
        "id": "Ty2SwofZpe8-",
        "colab_type": "code",
        "colab": {
          "base_uri": "https://localhost:8080/",
          "height": 969
        },
        "outputId": "f257c95e-1ccb-48fe-cf69-34fcec9e3d8b"
      },
      "source": [
        "os.environ['PYTHONHASHSEED'] = '0'\n",
        "tf.keras.backend.clear_session()\n",
        "\n",
        "conv_base_model           = tf.keras.applications.vgg16.VGG16(weights='imagenet', input_shape=(224,224,3), include_top=False)\n",
        "conv_base_model.trainable = False\n",
        "\n",
        "\n",
        "\n",
        "Conv1                     = Conv2D(filters=128,kernel_size=(7,7),strides=(1,1),padding='valid',data_format='channels_last',\n",
        "                                   activation='relu',kernel_initializer=tf.keras.initializers.he_normal(seed=0),\n",
        "                                   name='block6_conv1')(conv_base_model.output)\n",
        "\n",
        "Conv2                     = Conv2D(filters=64,kernel_size=(1,1),strides=(1,1),padding='same',data_format='channels_last',\n",
        "                                    activation='relu',kernel_initializer=tf.keras.initializers.he_normal(seed=0),\n",
        "                                    name='block6_conv2')(Conv1)\n",
        "flat                      = Flatten()(Conv2)\n",
        "Out                       = Dense(units=8,activation='softmax',kernel_initializer=tf.keras.initializers.glorot_normal(seed=34),name='Output')(flat)\n",
        "\n",
        "model = Model(inputs=conv_base_model.input, outputs=Out, name='Architecture_3')\n",
        "model.summary()"
      ],
      "execution_count": 6,
      "outputs": [
        {
          "output_type": "stream",
          "text": [
            "Downloading data from https://storage.googleapis.com/tensorflow/keras-applications/vgg16/vgg16_weights_tf_dim_ordering_tf_kernels_notop.h5\n",
            "58892288/58889256 [==============================] - 2s 0us/step\n",
            "Model: \"Architecture_3\"\n",
            "_________________________________________________________________\n",
            "Layer (type)                 Output Shape              Param #   \n",
            "=================================================================\n",
            "input_1 (InputLayer)         [(None, 224, 224, 3)]     0         \n",
            "_________________________________________________________________\n",
            "block1_conv1 (Conv2D)        (None, 224, 224, 64)      1792      \n",
            "_________________________________________________________________\n",
            "block1_conv2 (Conv2D)        (None, 224, 224, 64)      36928     \n",
            "_________________________________________________________________\n",
            "block1_pool (MaxPooling2D)   (None, 112, 112, 64)      0         \n",
            "_________________________________________________________________\n",
            "block2_conv1 (Conv2D)        (None, 112, 112, 128)     73856     \n",
            "_________________________________________________________________\n",
            "block2_conv2 (Conv2D)        (None, 112, 112, 128)     147584    \n",
            "_________________________________________________________________\n",
            "block2_pool (MaxPooling2D)   (None, 56, 56, 128)       0         \n",
            "_________________________________________________________________\n",
            "block3_conv1 (Conv2D)        (None, 56, 56, 256)       295168    \n",
            "_________________________________________________________________\n",
            "block3_conv2 (Conv2D)        (None, 56, 56, 256)       590080    \n",
            "_________________________________________________________________\n",
            "block3_conv3 (Conv2D)        (None, 56, 56, 256)       590080    \n",
            "_________________________________________________________________\n",
            "block3_pool (MaxPooling2D)   (None, 28, 28, 256)       0         \n",
            "_________________________________________________________________\n",
            "block4_conv1 (Conv2D)        (None, 28, 28, 512)       1180160   \n",
            "_________________________________________________________________\n",
            "block4_conv2 (Conv2D)        (None, 28, 28, 512)       2359808   \n",
            "_________________________________________________________________\n",
            "block4_conv3 (Conv2D)        (None, 28, 28, 512)       2359808   \n",
            "_________________________________________________________________\n",
            "block4_pool (MaxPooling2D)   (None, 14, 14, 512)       0         \n",
            "_________________________________________________________________\n",
            "block5_conv1 (Conv2D)        (None, 14, 14, 512)       2359808   \n",
            "_________________________________________________________________\n",
            "block5_conv2 (Conv2D)        (None, 14, 14, 512)       2359808   \n",
            "_________________________________________________________________\n",
            "block5_conv3 (Conv2D)        (None, 14, 14, 512)       2359808   \n",
            "_________________________________________________________________\n",
            "block5_pool (MaxPooling2D)   (None, 7, 7, 512)         0         \n",
            "_________________________________________________________________\n",
            "block6_conv1 (Conv2D)        (None, 1, 1, 128)         3211392   \n",
            "_________________________________________________________________\n",
            "block6_conv2 (Conv2D)        (None, 1, 1, 64)          8256      \n",
            "_________________________________________________________________\n",
            "flatten (Flatten)            (None, 64)                0         \n",
            "_________________________________________________________________\n",
            "Output (Dense)               (None, 8)                 520       \n",
            "=================================================================\n",
            "Total params: 17,934,856\n",
            "Trainable params: 3,220,168\n",
            "Non-trainable params: 14,714,688\n",
            "_________________________________________________________________\n"
          ],
          "name": "stdout"
        }
      ]
    },
    {
      "cell_type": "code",
      "metadata": {
        "id": "QWc7Ge7Lpe5F",
        "colab_type": "code",
        "colab": {}
      },
      "source": [
        "checkpoint_path=proj_path+\"/model_save/model3/_{epoch:02d}_{val_accuracy:.4f}.hdf5\"\n",
        "checkpoint = ModelCheckpoint(filepath=checkpoint_path, monitor='val_accuracy', save_best_only=True, mode='max')\n",
        "callback_obj = customm_callback()"
      ],
      "execution_count": 0,
      "outputs": []
    },
    {
      "cell_type": "code",
      "metadata": {
        "id": "0T478Dc1pe2D",
        "colab_type": "code",
        "colab": {}
      },
      "source": [
        "model.compile(optimizer=tf.keras.optimizers.Adam(lr=0.01),loss='categorical_crossentropy',metrics=['accuracy'])\n"
      ],
      "execution_count": 0,
      "outputs": []
    },
    {
      "cell_type": "code",
      "metadata": {
        "id": "Xu9jAA9suYIN",
        "colab_type": "code",
        "colab": {
          "base_uri": "https://localhost:8080/",
          "height": 816
        },
        "outputId": "839a113d-e788-4044-ace0-c2c3dbe9bb47"
      },
      "source": [
        "History = model.fit(train_generator,epochs=20,verbose=1,steps_per_epoch=steps_per_epoch,\n",
        "                    validation_data=validation_generator,validation_steps=val_steps_per_epoch,\n",
        "                    callbacks=[callback_obj,checkpoint]  ).history"
      ],
      "execution_count": 102,
      "outputs": [
        {
          "output_type": "stream",
          "text": [
            "Epoch 1/20\n",
            "153/153 [==============================] - 23s 148ms/step - loss: 3.0232 - accuracy: 0.8797 - val_loss: 0.1316 - val_accuracy: 0.9577\n",
            "Epoch 2/20\n",
            "153/153 [==============================] - 23s 150ms/step - loss: 0.0663 - accuracy: 0.9783 - val_loss: 0.0902 - val_accuracy: 0.9670\n",
            "Epoch 3/20\n",
            "153/153 [==============================] - 23s 147ms/step - loss: 0.0187 - accuracy: 0.9943 - val_loss: 0.0921 - val_accuracy: 0.9749\n",
            "Epoch 4/20\n",
            "153/153 [==============================] - 23s 148ms/step - loss: 0.0344 - accuracy: 0.9906 - val_loss: 0.2719 - val_accuracy: 0.9290\n",
            "Epoch 5/20\n",
            "153/153 [==============================] - 22s 145ms/step - loss: 0.0228 - accuracy: 0.9916 - val_loss: 0.0479 - val_accuracy: 0.9842\n",
            "Epoch 6/20\n",
            "153/153 [==============================] - 22s 145ms/step - loss: 0.0122 - accuracy: 0.9959 - val_loss: 0.1290 - val_accuracy: 0.9720\n",
            "Epoch 7/20\n",
            "153/153 [==============================] - 22s 145ms/step - loss: 0.0297 - accuracy: 0.9910 - val_loss: 0.3552 - val_accuracy: 0.9412\n",
            "Epoch 8/20\n",
            "153/153 [==============================] - 21s 138ms/step - loss: 0.0748 - accuracy: 0.9810 - val_loss: 0.1067 - val_accuracy: 0.9771\n",
            "Epoch 9/20\n",
            "153/153 [==============================] - 22s 144ms/step - loss: 0.0344 - accuracy: 0.9900 - val_loss: 0.1445 - val_accuracy: 0.9584\n",
            "Epoch 10/20\n",
            "153/153 [==============================] - 22s 141ms/step - loss: 0.0861 - accuracy: 0.9857 - val_loss: 0.1426 - val_accuracy: 0.9627\n",
            "Epoch 11/20\n",
            "153/153 [==============================] - 22s 143ms/step - loss: 0.0665 - accuracy: 0.9844 - val_loss: 0.1165 - val_accuracy: 0.9749\n",
            "Epoch 12/20\n",
            "153/153 [==============================] - 22s 142ms/step - loss: 0.0233 - accuracy: 0.9932 - val_loss: 0.1507 - val_accuracy: 0.9720\n",
            "Epoch 13/20\n",
            "153/153 [==============================] - 21s 139ms/step - loss: 0.0392 - accuracy: 0.9935 - val_loss: 0.1651 - val_accuracy: 0.9728\n",
            "Epoch 14/20\n",
            "153/153 [==============================] - 22s 141ms/step - loss: 0.0080 - accuracy: 0.9982 - val_loss: 0.0681 - val_accuracy: 0.9828\n",
            "Epoch 15/20\n",
            "153/153 [==============================] - 22s 146ms/step - loss: 0.0011 - accuracy: 0.9998 - val_loss: 0.0792 - val_accuracy: 0.9849\n",
            "Epoch 16/20\n",
            "153/153 [==============================] - 22s 141ms/step - loss: 8.6818e-05 - accuracy: 1.0000 - val_loss: 0.0632 - val_accuracy: 0.9835\n",
            "Epoch 17/20\n",
            "153/153 [==============================] - 22s 142ms/step - loss: 4.3055e-05 - accuracy: 1.0000 - val_loss: 0.0838 - val_accuracy: 0.9785\n",
            "Epoch 18/20\n",
            "153/153 [==============================] - 21s 140ms/step - loss: 4.2491e-05 - accuracy: 1.0000 - val_loss: 0.0557 - val_accuracy: 0.9835\n",
            "Epoch 19/20\n",
            "153/153 [==============================] - ETA: 0s - loss: 3.1244e-05 - accuracy: 1.0000\n",
            "\n",
            "\n",
            "                         No improvement from last 3 epoch \n",
            "\n",
            "                         STOPPING TRAINING \n",
            "\n",
            "\n",
            "\n",
            "153/153 [==============================] - 23s 147ms/step - loss: 3.1244e-05 - accuracy: 1.0000 - val_loss: 0.0761 - val_accuracy: 0.9857\n"
          ],
          "name": "stdout"
        }
      ]
    },
    {
      "cell_type": "code",
      "metadata": {
        "id": "SYxy1lH6uYE-",
        "colab_type": "code",
        "colab": {
          "base_uri": "https://localhost:8080/",
          "height": 935
        },
        "outputId": "62b3b0a9-7691-4275-fab0-a3874c9205f3"
      },
      "source": [
        "os.environ['PYTHONHASHSEED'] = '0'\n",
        "tf.keras.backend.clear_session()\n",
        "\n",
        "conv_base_model           = tf.keras.applications.vgg16.VGG16(weights='imagenet', input_shape=(224,224,3), include_top=False)\n",
        "conv_base_model.trainable = False\n",
        "\n",
        "\n",
        "\n",
        "Conv1                     = Conv2D(filters=1024,kernel_size=(7,7),strides=(1,1),padding='valid',data_format='channels_last',\n",
        "                                   activation='relu',kernel_initializer=tf.keras.initializers.he_normal(seed=0),\n",
        "                                   name='block6_conv1')(conv_base_model.output)\n",
        "\n",
        "Conv2                     = Conv2D(filters=1024,kernel_size=(1,1),strides=(1,1),padding='same',data_format='channels_last',\n",
        "                                    activation='relu',kernel_initializer=tf.keras.initializers.he_normal(seed=0),\n",
        "                                    name='block6_conv2')(Conv1)\n",
        "flat                      = Flatten()(Conv2)\n",
        "Out                       = Dense(units=8,activation='softmax',kernel_initializer=tf.keras.initializers.glorot_normal(seed=34),name='Output')(flat)\n",
        "\n",
        "model = Model(inputs=conv_base_model.input, outputs=Out, name='Architecture_4')\n",
        "model.summary()"
      ],
      "execution_count": 109,
      "outputs": [
        {
          "output_type": "stream",
          "text": [
            "Model: \"Architecture_4\"\n",
            "_________________________________________________________________\n",
            "Layer (type)                 Output Shape              Param #   \n",
            "=================================================================\n",
            "input_1 (InputLayer)         [(None, 224, 224, 3)]     0         \n",
            "_________________________________________________________________\n",
            "block1_conv1 (Conv2D)        (None, 224, 224, 64)      1792      \n",
            "_________________________________________________________________\n",
            "block1_conv2 (Conv2D)        (None, 224, 224, 64)      36928     \n",
            "_________________________________________________________________\n",
            "block1_pool (MaxPooling2D)   (None, 112, 112, 64)      0         \n",
            "_________________________________________________________________\n",
            "block2_conv1 (Conv2D)        (None, 112, 112, 128)     73856     \n",
            "_________________________________________________________________\n",
            "block2_conv2 (Conv2D)        (None, 112, 112, 128)     147584    \n",
            "_________________________________________________________________\n",
            "block2_pool (MaxPooling2D)   (None, 56, 56, 128)       0         \n",
            "_________________________________________________________________\n",
            "block3_conv1 (Conv2D)        (None, 56, 56, 256)       295168    \n",
            "_________________________________________________________________\n",
            "block3_conv2 (Conv2D)        (None, 56, 56, 256)       590080    \n",
            "_________________________________________________________________\n",
            "block3_conv3 (Conv2D)        (None, 56, 56, 256)       590080    \n",
            "_________________________________________________________________\n",
            "block3_pool (MaxPooling2D)   (None, 28, 28, 256)       0         \n",
            "_________________________________________________________________\n",
            "block4_conv1 (Conv2D)        (None, 28, 28, 512)       1180160   \n",
            "_________________________________________________________________\n",
            "block4_conv2 (Conv2D)        (None, 28, 28, 512)       2359808   \n",
            "_________________________________________________________________\n",
            "block4_conv3 (Conv2D)        (None, 28, 28, 512)       2359808   \n",
            "_________________________________________________________________\n",
            "block4_pool (MaxPooling2D)   (None, 14, 14, 512)       0         \n",
            "_________________________________________________________________\n",
            "block5_conv1 (Conv2D)        (None, 14, 14, 512)       2359808   \n",
            "_________________________________________________________________\n",
            "block5_conv2 (Conv2D)        (None, 14, 14, 512)       2359808   \n",
            "_________________________________________________________________\n",
            "block5_conv3 (Conv2D)        (None, 14, 14, 512)       2359808   \n",
            "_________________________________________________________________\n",
            "block5_pool (MaxPooling2D)   (None, 7, 7, 512)         0         \n",
            "_________________________________________________________________\n",
            "block6_conv1 (Conv2D)        (None, 1, 1, 1024)        25691136  \n",
            "_________________________________________________________________\n",
            "block6_conv2 (Conv2D)        (None, 1, 1, 1024)        1049600   \n",
            "_________________________________________________________________\n",
            "flatten (Flatten)            (None, 1024)              0         \n",
            "_________________________________________________________________\n",
            "Output (Dense)               (None, 8)                 8200      \n",
            "=================================================================\n",
            "Total params: 41,463,624\n",
            "Trainable params: 26,748,936\n",
            "Non-trainable params: 14,714,688\n",
            "_________________________________________________________________\n"
          ],
          "name": "stdout"
        }
      ]
    },
    {
      "cell_type": "code",
      "metadata": {
        "id": "TiyF7q_xy0n2",
        "colab_type": "code",
        "colab": {}
      },
      "source": [
        "checkpoint_path=proj_path+\"/model_save/model4/_{epoch:02d}_{val_accuracy:.4f}.hdf5\"\n",
        "checkpoint = ModelCheckpoint(filepath=checkpoint_path, monitor='val_accuracy', save_best_only=True, mode='max')\n",
        "callback_obj = customm_callback()"
      ],
      "execution_count": 0,
      "outputs": []
    },
    {
      "cell_type": "code",
      "metadata": {
        "id": "xu1BWUC8uYBe",
        "colab_type": "code",
        "colab": {}
      },
      "source": [
        "model.compile(optimizer=tf.keras.optimizers.Adam(lr=0.01),loss='categorical_crossentropy',metrics=['accuracy'])\n"
      ],
      "execution_count": 0,
      "outputs": []
    },
    {
      "cell_type": "code",
      "metadata": {
        "id": "bhDuCnaruX9p",
        "colab_type": "code",
        "colab": {
          "base_uri": "https://localhost:8080/",
          "height": 1000
        },
        "outputId": "166422a2-5d87-41ac-d677-2f531066b3ba"
      },
      "source": [
        "History = model.fit(train_generator,epochs=50,verbose=1,steps_per_epoch=steps_per_epoch,\n",
        "                    validation_data=validation_generator,validation_steps=val_steps_per_epoch,\n",
        "                    callbacks=[callback_obj,checkpoint]  ).history"
      ],
      "execution_count": 112,
      "outputs": [
        {
          "output_type": "stream",
          "text": [
            "Epoch 1/50\n",
            "153/153 [==============================] - 25s 166ms/step - loss: 12.5683 - accuracy: 0.8613 - val_loss: 0.1892 - val_accuracy: 0.9606\n",
            "Epoch 2/50\n",
            "153/153 [==============================] - 24s 155ms/step - loss: 0.3028 - accuracy: 0.9321 - val_loss: 0.5845 - val_accuracy: 0.8731\n",
            "Epoch 3/50\n",
            "153/153 [==============================] - 24s 159ms/step - loss: 0.1909 - accuracy: 0.9601 - val_loss: 0.1852 - val_accuracy: 0.9656\n",
            "Epoch 4/50\n",
            "153/153 [==============================] - 24s 155ms/step - loss: 0.1138 - accuracy: 0.9767 - val_loss: 0.2365 - val_accuracy: 0.9462\n",
            "Epoch 5/50\n",
            "153/153 [==============================] - 24s 157ms/step - loss: 0.2289 - accuracy: 0.9718 - val_loss: 0.1581 - val_accuracy: 0.9735\n",
            "Epoch 6/50\n",
            "153/153 [==============================] - 23s 151ms/step - loss: 0.3112 - accuracy: 0.9310 - val_loss: 0.2359 - val_accuracy: 0.9556\n",
            "Epoch 7/50\n",
            "153/153 [==============================] - 22s 147ms/step - loss: 0.3665 - accuracy: 0.9104 - val_loss: 0.4002 - val_accuracy: 0.9204\n",
            "Epoch 8/50\n",
            "153/153 [==============================] - 22s 144ms/step - loss: 0.6758 - accuracy: 0.8762 - val_loss: 0.9615 - val_accuracy: 0.9190\n",
            "Epoch 9/50\n",
            "153/153 [==============================] - 22s 145ms/step - loss: 0.1920 - accuracy: 0.9474 - val_loss: 0.3106 - val_accuracy: 0.9498\n",
            "Epoch 10/50\n",
            "153/153 [==============================] - 22s 143ms/step - loss: 0.1913 - accuracy: 0.9605 - val_loss: 0.2470 - val_accuracy: 0.9391\n",
            "Epoch 11/50\n",
            "153/153 [==============================] - 22s 146ms/step - loss: 0.0672 - accuracy: 0.9849 - val_loss: 0.1276 - val_accuracy: 0.9627\n",
            "Epoch 12/50\n",
            "153/153 [==============================] - 22s 146ms/step - loss: 0.0466 - accuracy: 0.9902 - val_loss: 0.1304 - val_accuracy: 0.9706\n",
            "Epoch 13/50\n",
            "153/153 [==============================] - 24s 155ms/step - loss: 0.0388 - accuracy: 0.9922 - val_loss: 0.1256 - val_accuracy: 0.9785\n",
            "Epoch 14/50\n",
            "153/153 [==============================] - 23s 149ms/step - loss: 0.0339 - accuracy: 0.9941 - val_loss: 0.3446 - val_accuracy: 0.9656\n",
            "Epoch 15/50\n",
            "153/153 [==============================] - 22s 142ms/step - loss: 0.0313 - accuracy: 0.9943 - val_loss: 0.1436 - val_accuracy: 0.9728\n",
            "Epoch 16/50\n",
            "153/153 [==============================] - 23s 150ms/step - loss: 0.0320 - accuracy: 0.9926 - val_loss: 0.1464 - val_accuracy: 0.9792\n",
            "Epoch 17/50\n",
            "153/153 [==============================] - 22s 146ms/step - loss: 0.0541 - accuracy: 0.9869 - val_loss: 0.2984 - val_accuracy: 0.9541\n",
            "Epoch 18/50\n",
            "153/153 [==============================] - 22s 141ms/step - loss: 0.0681 - accuracy: 0.9834 - val_loss: 0.1742 - val_accuracy: 0.9706\n",
            "Epoch 19/50\n",
            "153/153 [==============================] - 22s 143ms/step - loss: 0.1022 - accuracy: 0.9799 - val_loss: 0.3002 - val_accuracy: 0.9491\n",
            "Epoch 20/50\n",
            "153/153 [==============================] - 22s 144ms/step - loss: 0.0522 - accuracy: 0.9869 - val_loss: 0.2582 - val_accuracy: 0.9771\n",
            "Epoch 21/50\n",
            "153/153 [==============================] - 23s 153ms/step - loss: 0.0116 - accuracy: 0.9984 - val_loss: 0.1861 - val_accuracy: 0.9857\n",
            "Epoch 22/50\n",
            "153/153 [==============================] - 23s 148ms/step - loss: 0.0082 - accuracy: 0.9986 - val_loss: 0.2392 - val_accuracy: 0.9763\n",
            "Epoch 23/50\n",
            "153/153 [==============================] - 22s 142ms/step - loss: 0.0215 - accuracy: 0.9955 - val_loss: 0.2703 - val_accuracy: 0.9749\n",
            "Epoch 24/50\n",
            "153/153 [==============================] - 22s 145ms/step - loss: 0.0197 - accuracy: 0.9957 - val_loss: 0.2032 - val_accuracy: 0.9692\n",
            "Epoch 25/50\n",
            "153/153 [==============================] - 22s 142ms/step - loss: 0.0062 - accuracy: 0.9992 - val_loss: 0.2189 - val_accuracy: 0.9735\n",
            "Epoch 26/50\n",
            "153/153 [==============================] - 22s 145ms/step - loss: 0.0017 - accuracy: 0.9994 - val_loss: 0.2566 - val_accuracy: 0.9771\n",
            "Epoch 27/50\n",
            "153/153 [==============================] - 22s 142ms/step - loss: 0.0043 - accuracy: 0.9994 - val_loss: 0.1043 - val_accuracy: 0.9828\n",
            "Epoch 28/50\n",
            "153/153 [==============================] - 22s 143ms/step - loss: 0.0034 - accuracy: 0.9994 - val_loss: 0.2442 - val_accuracy: 0.9735\n",
            "Epoch 29/50\n",
            "153/153 [==============================] - ETA: 0s - loss: 0.0037 - accuracy: 0.9994\n",
            "\n",
            "\n",
            "                         No improvement from last 3 epoch \n",
            "\n",
            "                         STOPPING TRAINING \n",
            "\n",
            "\n",
            "\n",
            "153/153 [==============================] - 22s 144ms/step - loss: 0.0037 - accuracy: 0.9994 - val_loss: 0.1370 - val_accuracy: 0.9785\n"
          ],
          "name": "stdout"
        }
      ]
    },
    {
      "cell_type": "code",
      "metadata": {
        "id": "nGdBtrdCuX6A",
        "colab_type": "code",
        "colab": {
          "base_uri": "https://localhost:8080/",
          "height": 935
        },
        "outputId": "ba497f7f-ac87-4a94-a1d6-aa76fb297205"
      },
      "source": [
        "os.environ['PYTHONHASHSEED'] = '0'\n",
        "tf.keras.backend.clear_session()\n",
        "\n",
        "conv_base_model           = tf.keras.applications.vgg16.VGG16(weights='imagenet', input_shape=(224,224,3), include_top=False)\n",
        "conv_base_model.trainable = False\n",
        "\n",
        "\n",
        "\n",
        "Conv1                     = Conv2D(filters=128,kernel_size=(7,7),strides=(1,1),padding='valid',data_format='channels_last',\n",
        "                                   activation='relu',kernel_initializer=tf.keras.initializers.he_normal(seed=0),\n",
        "                                   name='block6_conv1')(conv_base_model.output)\n",
        "\n",
        "Conv2                     = Conv2D(filters=64,kernel_size=(1,1),strides=(1,1),padding='same',data_format='channels_last',\n",
        "                                    activation='relu',kernel_initializer=tf.keras.initializers.he_normal(seed=0),\n",
        "                                    name='block6_conv2')(Conv1)\n",
        "flat                      = Flatten()(Conv2)\n",
        "Out                       = Dense(units=8,activation='softmax',kernel_initializer=tf.keras.initializers.he_normal(seed=34),name='Output')(flat)\n",
        "\n",
        "model = Model(inputs=conv_base_model.input, outputs=Out, name='Architecture_5')\n",
        "model.summary()"
      ],
      "execution_count": 121,
      "outputs": [
        {
          "output_type": "stream",
          "text": [
            "Model: \"Architecture_5\"\n",
            "_________________________________________________________________\n",
            "Layer (type)                 Output Shape              Param #   \n",
            "=================================================================\n",
            "input_1 (InputLayer)         [(None, 224, 224, 3)]     0         \n",
            "_________________________________________________________________\n",
            "block1_conv1 (Conv2D)        (None, 224, 224, 64)      1792      \n",
            "_________________________________________________________________\n",
            "block1_conv2 (Conv2D)        (None, 224, 224, 64)      36928     \n",
            "_________________________________________________________________\n",
            "block1_pool (MaxPooling2D)   (None, 112, 112, 64)      0         \n",
            "_________________________________________________________________\n",
            "block2_conv1 (Conv2D)        (None, 112, 112, 128)     73856     \n",
            "_________________________________________________________________\n",
            "block2_conv2 (Conv2D)        (None, 112, 112, 128)     147584    \n",
            "_________________________________________________________________\n",
            "block2_pool (MaxPooling2D)   (None, 56, 56, 128)       0         \n",
            "_________________________________________________________________\n",
            "block3_conv1 (Conv2D)        (None, 56, 56, 256)       295168    \n",
            "_________________________________________________________________\n",
            "block3_conv2 (Conv2D)        (None, 56, 56, 256)       590080    \n",
            "_________________________________________________________________\n",
            "block3_conv3 (Conv2D)        (None, 56, 56, 256)       590080    \n",
            "_________________________________________________________________\n",
            "block3_pool (MaxPooling2D)   (None, 28, 28, 256)       0         \n",
            "_________________________________________________________________\n",
            "block4_conv1 (Conv2D)        (None, 28, 28, 512)       1180160   \n",
            "_________________________________________________________________\n",
            "block4_conv2 (Conv2D)        (None, 28, 28, 512)       2359808   \n",
            "_________________________________________________________________\n",
            "block4_conv3 (Conv2D)        (None, 28, 28, 512)       2359808   \n",
            "_________________________________________________________________\n",
            "block4_pool (MaxPooling2D)   (None, 14, 14, 512)       0         \n",
            "_________________________________________________________________\n",
            "block5_conv1 (Conv2D)        (None, 14, 14, 512)       2359808   \n",
            "_________________________________________________________________\n",
            "block5_conv2 (Conv2D)        (None, 14, 14, 512)       2359808   \n",
            "_________________________________________________________________\n",
            "block5_conv3 (Conv2D)        (None, 14, 14, 512)       2359808   \n",
            "_________________________________________________________________\n",
            "block5_pool (MaxPooling2D)   (None, 7, 7, 512)         0         \n",
            "_________________________________________________________________\n",
            "block6_conv1 (Conv2D)        (None, 1, 1, 128)         3211392   \n",
            "_________________________________________________________________\n",
            "block6_conv2 (Conv2D)        (None, 1, 1, 64)          8256      \n",
            "_________________________________________________________________\n",
            "flatten (Flatten)            (None, 64)                0         \n",
            "_________________________________________________________________\n",
            "Output (Dense)               (None, 8)                 520       \n",
            "=================================================================\n",
            "Total params: 17,934,856\n",
            "Trainable params: 3,220,168\n",
            "Non-trainable params: 14,714,688\n",
            "_________________________________________________________________\n"
          ],
          "name": "stdout"
        }
      ]
    },
    {
      "cell_type": "code",
      "metadata": {
        "id": "aF3ZaimM6AaM",
        "colab_type": "code",
        "colab": {}
      },
      "source": [
        "checkpoint_path=proj_path+\"/model_save/model5/_{epoch:02d}_{val_accuracy:.4f}.hdf5\"\n",
        "checkpoint = ModelCheckpoint(filepath=checkpoint_path, monitor='val_accuracy', save_best_only=True, mode='max')\n",
        "callback_obj = customm_callback()"
      ],
      "execution_count": 0,
      "outputs": []
    },
    {
      "cell_type": "code",
      "metadata": {
        "id": "UjvW3RzKuX1x",
        "colab_type": "code",
        "colab": {}
      },
      "source": [
        "model.compile(optimizer=tf.keras.optimizers.Adam(lr=0.01),loss='categorical_crossentropy',metrics=['accuracy'])\n"
      ],
      "execution_count": 0,
      "outputs": []
    },
    {
      "cell_type": "code",
      "metadata": {
        "id": "BvNDXk5nuXyJ",
        "colab_type": "code",
        "colab": {
          "base_uri": "https://localhost:8080/",
          "height": 612
        },
        "outputId": "715f25c7-8bcf-4131-aff1-d68c22051472"
      },
      "source": [
        "History = model.fit(train_generator,epochs=50,verbose=1,steps_per_epoch=steps_per_epoch,\n",
        "                    validation_data=validation_generator,validation_steps=val_steps_per_epoch,\n",
        "                    callbacks=[callback_obj,checkpoint]  ).history"
      ],
      "execution_count": 120,
      "outputs": [
        {
          "output_type": "stream",
          "text": [
            "Epoch 1/50\n",
            "153/153 [==============================] - 21s 139ms/step - loss: 1.9089 - accuracy: 0.8838 - val_loss: 0.3412 - val_accuracy: 0.9147\n",
            "Epoch 2/50\n",
            "153/153 [==============================] - 21s 140ms/step - loss: 0.0783 - accuracy: 0.9767 - val_loss: 0.1324 - val_accuracy: 0.9656\n",
            "Epoch 3/50\n",
            "153/153 [==============================] - 22s 143ms/step - loss: 0.0646 - accuracy: 0.9818 - val_loss: 0.0986 - val_accuracy: 0.9756\n",
            "Epoch 4/50\n",
            "153/153 [==============================] - 21s 137ms/step - loss: 0.0393 - accuracy: 0.9877 - val_loss: 0.3004 - val_accuracy: 0.9491\n",
            "Epoch 5/50\n",
            "153/153 [==============================] - 21s 137ms/step - loss: 0.1123 - accuracy: 0.9754 - val_loss: 0.0966 - val_accuracy: 0.9756\n",
            "Epoch 6/50\n",
            "153/153 [==============================] - 21s 136ms/step - loss: 0.1650 - accuracy: 0.9707 - val_loss: 0.3071 - val_accuracy: 0.9441\n",
            "Epoch 7/50\n",
            "153/153 [==============================] - 21s 137ms/step - loss: 0.2314 - accuracy: 0.9683 - val_loss: 0.4727 - val_accuracy: 0.9240\n",
            "Epoch 8/50\n",
            "153/153 [==============================] - 21s 137ms/step - loss: 0.0438 - accuracy: 0.9926 - val_loss: 0.1270 - val_accuracy: 0.9778\n",
            "Epoch 9/50\n",
            "153/153 [==============================] - 22s 141ms/step - loss: 0.0013 - accuracy: 0.9996 - val_loss: 0.0853 - val_accuracy: 0.9814\n",
            "Epoch 10/50\n",
            "153/153 [==============================] - 21s 138ms/step - loss: 1.1262e-04 - accuracy: 1.0000 - val_loss: 0.1411 - val_accuracy: 0.9756\n",
            "Epoch 11/50\n",
            "153/153 [==============================] - 21s 137ms/step - loss: 7.5602e-05 - accuracy: 1.0000 - val_loss: 0.1167 - val_accuracy: 0.9792\n",
            "Epoch 12/50\n",
            "153/153 [==============================] - 21s 139ms/step - loss: 6.2863e-05 - accuracy: 1.0000 - val_loss: 0.0985 - val_accuracy: 0.9828\n",
            "Epoch 13/50\n",
            "153/153 [==============================] - ETA: 0s - loss: 4.1914e-05 - accuracy: 1.0000\n",
            "\n",
            "\n",
            "                         No improvement from last 3 epoch \n",
            "\n",
            "                         STOPPING TRAINING \n",
            "\n",
            "\n",
            "\n",
            "153/153 [==============================] - 21s 140ms/step - loss: 4.1914e-05 - accuracy: 1.0000 - val_loss: 0.1326 - val_accuracy: 0.9785\n"
          ],
          "name": "stdout"
        }
      ]
    },
    {
      "cell_type": "markdown",
      "metadata": {
        "id": "-DIm7LOYB2OQ",
        "colab_type": "text"
      },
      "source": [
        "# Best Architecture"
      ]
    },
    {
      "cell_type": "code",
      "metadata": {
        "id": "zzFOStb9E9i-",
        "colab_type": "code",
        "colab": {}
      },
      "source": [
        "val_score=[]\n",
        "Architectures=['Architecture_1','Architecture_2','Architecture_3','Architecture_4','Architecture_5']\n",
        "for i in os.listdir(os.path.join(proj_path,'model_save')):\n",
        "  temp=0\n",
        "  for j in os.listdir(os.path.join(os.path.join(proj_path,'model_save'),i)):\n",
        "    a=float(j.split('.')[-2])/10000\n",
        "    temp = a if a>temp else temp\n",
        "  val_score.append(temp) "
      ],
      "execution_count": 0,
      "outputs": []
    },
    {
      "cell_type": "code",
      "metadata": {
        "id": "swsrvlAouXr3",
        "colab_type": "code",
        "colab": {}
      },
      "source": [
        "val_score=[0.9577,0.9828,0.9871,0.9857,0.9828]\n",
        "Architectures=['Architecture_1','Architecture_2','Architecture_3','Architecture_4','Architecture_5']"
      ],
      "execution_count": 0,
      "outputs": []
    },
    {
      "cell_type": "code",
      "metadata": {
        "id": "TcJIDqzrCLTG",
        "colab_type": "code",
        "colab": {
          "base_uri": "https://localhost:8080/",
          "height": 368
        },
        "outputId": "508d3879-2b96-40b5-9ed6-18e630900bfc"
      },
      "source": [
        "plt.figure(figsize=(15,5))\n",
        "plt.grid()\n",
        "plt.plot(Architectures,val_score,color='orange')\n",
        "plt.scatter(Architectures,val_score)\n",
        "plt.title(\"Validation scores of models tried\")\n",
        "plt.xlabel(\"Model's Name\")\n",
        "plt.ylabel(\"Validation Score\")"
      ],
      "execution_count": 132,
      "outputs": [
        {
          "output_type": "execute_result",
          "data": {
            "text/plain": [
              "Text(0, 0.5, 'Validation Score')"
            ]
          },
          "metadata": {
            "tags": []
          },
          "execution_count": 132
        },
        {
          "output_type": "display_data",
          "data": {
            "image/png": "[encoded data removed]",
            "text/plain": [
              "<Figure size 1080x360 with 1 Axes>"
            ]
          },
          "metadata": {
            "tags": []
          }
        }
      ]
    },
    {
      "cell_type": "markdown",
      "metadata": {
        "id": "DeUjAc6iBuvI",
        "colab_type": "text"
      },
      "source": [
        "# Loading & testing best Model\n"
      ]
    },
    {
      "cell_type": "code",
      "metadata": {
        "id": "6yBUnnwgBQkM",
        "colab_type": "code",
        "colab": {}
      },
      "source": [
        "# run architecture 3 first\n",
        "model.load_weights(os.path.join(os.path.join(os.path.join(proj_path,'model_save'),'model3'),'_01_0.9871.hdf5'))"
      ],
      "execution_count": 0,
      "outputs": []
    },
    {
      "cell_type": "code",
      "metadata": {
        "id": "mL2nVvgqBQcW",
        "colab_type": "code",
        "colab": {
          "base_uri": "https://localhost:8080/",
          "height": 34
        },
        "outputId": "462a3c66-f1aa-49e5-9638-986a419a004f"
      },
      "source": [
        "test_generator = datagen.flow_from_directory(os.path.join(DATA_path,'test'),\n",
        "                                                   shuffle=False,\n",
        "                                                   batch_size=704,\n",
        "                                                   target_size=INPUT_SHAPE)"
      ],
      "execution_count": 11,
      "outputs": [
        {
          "output_type": "stream",
          "text": [
            "Found 704 images belonging to 8 classes.\n"
          ],
          "name": "stdout"
        }
      ]
    },
    {
      "cell_type": "code",
      "metadata": {
        "id": "jPOztFzlBQXg",
        "colab_type": "code",
        "colab": {}
      },
      "source": [
        "a = model.predict(test_generator.next())"
      ],
      "execution_count": 0,
      "outputs": []
    },
    {
      "cell_type": "code",
      "metadata": {
        "id": "uZeoyUa7BQTg",
        "colab_type": "code",
        "colab": {}
      },
      "source": [
        "y_pred=[]\n",
        "for i in a:\n",
        "  y_pred.append(np.argmax(i))\n",
        "y_true=test_generator.classes"
      ],
      "execution_count": 0,
      "outputs": []
    },
    {
      "cell_type": "code",
      "metadata": {
        "id": "wOjfOjXOBQMA",
        "colab_type": "code",
        "colab": {}
      },
      "source": [
        "conf_mat = confusion_matrix(y_true, y_pred)"
      ],
      "execution_count": 0,
      "outputs": []
    },
    {
      "cell_type": "code",
      "metadata": {
        "id": "DAqC3o5mw4ys",
        "colab_type": "code",
        "colab": {
          "base_uri": "https://localhost:8080/",
          "height": 446
        },
        "outputId": "7bf3d820-3e1a-43de-ecb1-a0f2d00c9ff8"
      },
      "source": [
        "plt.figure(figsize=(15,7))\n",
        "sns.heatmap(conf_mat, annot=True, fmt=\"d\",cmap=\"YlGnBu\",xticklabels=test_generator.class_indices.keys(),yticklabels=test_generator.class_indices.keys())"
      ],
      "execution_count": 34,
      "outputs": [
        {
          "output_type": "execute_result",
          "data": {
            "text/plain": [
              "<matplotlib.axes._subplots.AxesSubplot at 0x7faee58c5908>"
            ]
          },
          "metadata": {
            "tags": []
          },
          "execution_count": 34
        },
        {
          "output_type": "display_data",
          "data": {
            "image/png": "[encoded data removed]",
            "text/plain": [
              "<Figure size 1080x504 with 2 Axes>"
            ]
          },
          "metadata": {
            "tags": []
          }
        }
      ]
    },
    {
      "cell_type": "code",
      "metadata": {
        "id": "Pt8Xzx05vvH7",
        "colab_type": "code",
        "colab": {}
      },
      "source": [
        ""
      ],
      "execution_count": 0,
      "outputs": []
    },
    {
      "cell_type": "code",
      "metadata": {
        "id": "X-4VU9eMzmy_",
        "colab_type": "code",
        "colab": {}
      },
      "source": [
        ""
      ],
      "execution_count": 0,
      "outputs": []
    },
    {
      "cell_type": "code",
      "metadata": {
        "id": "CFo0zHjTzmu7",
        "colab_type": "code",
        "colab": {}
      },
      "source": [
        ""
      ],
      "execution_count": 0,
      "outputs": []
    },
    {
      "cell_type": "code",
      "metadata": {
        "id": "0k_UeDiNzmp9",
        "colab_type": "code",
        "colab": {}
      },
      "source": [
        ""
      ],
      "execution_count": 0,
      "outputs": []
    },
    {
      "cell_type": "code",
      "metadata": {
        "id": "txxpMePDzml5",
        "colab_type": "code",
        "colab": {}
      },
      "source": [
        ""
      ],
      "execution_count": 0,
      "outputs": []
    },
    {
      "cell_type": "code",
      "metadata": {
        "id": "8i6gFlZIzmfV",
        "colab_type": "code",
        "colab": {}
      },
      "source": [
        ""
      ],
      "execution_count": 0,
      "outputs": []
    }
  ]
}